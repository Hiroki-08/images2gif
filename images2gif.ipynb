{
 "cells": [
  {
   "cell_type": "code",
   "execution_count": 1,
   "metadata": {},
   "outputs": [],
   "source": [
    "import matplotlib.pyplot as plt\n",
    "import glob\n",
    "import cv2\n",
    "import numpy as np\n",
    "import os\n",
    "from PIL import Image"
   ]
  },
  {
   "cell_type": "code",
   "execution_count": 2,
   "metadata": {},
   "outputs": [
    {
     "name": "stdout",
     "output_type": "stream",
     "text": [
      "img num:1024, img size:(300, 300)\n"
     ]
    }
   ],
   "source": [
    "# データ読み込み\n",
    "folder_path = \"./\"   \n",
    "\n",
    "# img_size = ( 256,256 )\n",
    "\n",
    "def get_data( folder_path ):\n",
    "    path = glob.glob( os.path.join( folder_path, \"*.png\" ) )\n",
    "    data = np.array([ cv2.imread(path) for path in path ]).astype( 'float32' )\n",
    "    # data = np.array([ cv2.resize( data, img_size ) for data in data ])        # 画像サイズを変更する場合\n",
    "    data = np.array([ img[ :, :, ::-1] for img in data ])\n",
    "    data = [ Image.fromarray( img.astype(np.uint8)).convert('RGB') for img in data ]\n",
    "    return ( data )\n",
    "\n",
    "\n",
    "img_list = get_data( folder_path )\n",
    "\n",
    "print( \"img num:{}, img size:{}\".format( len(img_list), img_list[0].size ) )\n"
   ]
  },
  {
   "cell_type": "code",
   "execution_count": 3,
   "metadata": {},
   "outputs": [],
   "source": [
    "# gif 作成・保存\n",
    "save_name = \"hoge\"\n",
    "img_list[0].save(   folder_path + save_name + \".gif\",\n",
    "                    save_all=True,\n",
    "                    append_images=img_list[1:],\n",
    "                    optimize=False,\n",
    "                    loop=1,\n",
    "                    duration=40,    # フレーム表示時間[ms]\n",
    "                )\n"
   ]
  }
 ],
 "metadata": {
  "kernelspec": {
   "display_name": "B3",
   "language": "python",
   "name": "python3"
  },
  "language_info": {
   "codemirror_mode": {
    "name": "ipython",
    "version": 3
   },
   "file_extension": ".py",
   "mimetype": "text/x-python",
   "name": "python",
   "nbconvert_exporter": "python",
   "pygments_lexer": "ipython3",
   "version": "3.8.9"
  },
  "orig_nbformat": 4,
  "vscode": {
   "interpreter": {
    "hash": "46f98eee34342259223bfff61bcee09c4db68523ef524d4b3d2c8356b1cbb7af"
   }
  }
 },
 "nbformat": 4,
 "nbformat_minor": 2
}
